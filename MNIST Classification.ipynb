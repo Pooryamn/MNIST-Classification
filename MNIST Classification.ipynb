{
 "cells": [
  {
   "cell_type": "markdown",
   "metadata": {},
   "source": [
    "# Preprocessing stage"
   ]
  },
  {
   "cell_type": "markdown",
   "metadata": {},
   "source": [
    "## Reading Binary dataset and convert it to CSV files"
   ]
  },
  {
   "cell_type": "code",
   "execution_count": 1,
   "metadata": {},
   "outputs": [],
   "source": [
    "import numpy as np\n",
    "import pandas as pd"
   ]
  },
  {
   "cell_type": "code",
   "execution_count": 2,
   "metadata": {},
   "outputs": [],
   "source": [
    "# read and convert ubyte data to csv files\n",
    "def Read_Convert(imagefile,labelfile,outputfile,sample_size):\n",
    "    \"\"\" \n",
    "        image file : ubyte image data\n",
    "        label file : ubyte label data\n",
    "        outputfile : name of output csv\n",
    "        sample_size: number of samples in ubyte data\n",
    "    \"\"\"\n",
    "    # open input image & label as binary format\n",
    "    image_in = open(imagefile,mode='rb')\n",
    "    label_in = open(labelfile,mode='rb')\n",
    "    \n",
    "    # open output file\n",
    "    file_out = open(outputfile,mode='w')\n",
    "    \n",
    "    # read file headers\n",
    "    image_in.read(16)\n",
    "    label_in.read(8)\n",
    "    \n",
    "    images = [] \n",
    "    \n",
    "    for i in range(sample_size):\n",
    "        # add one label\n",
    "        image = [ord(label_in.read(1))]\n",
    "        \n",
    "        for j in range(28*28):\n",
    "            # assign an image to each label\n",
    "            image.append(ord(image_in.read(1)))\n",
    "        \n",
    "        # append the image and its label to images\n",
    "        images.append(image)\n",
    "    \n",
    "    # write images data to file\n",
    "    for image in images:\n",
    "        file_out.write(','.join(str(pix) for pix in image) + '\\n')\n",
    "        \n",
    "    # close files\n",
    "    image_in.close()\n",
    "    label_in.close()\n",
    "    file_out.close()"
   ]
  },
  {
   "cell_type": "code",
   "execution_count": 3,
   "metadata": {},
   "outputs": [
    {
     "name": "stdout",
     "output_type": "stream",
     "text": [
      "Start!\n",
      "Finish!\n"
     ]
    }
   ],
   "source": [
    "# Run Data Conversion\n",
    "print('Start!')\n",
    "\n",
    "Read_Convert(imagefile='Dataset/train-images.idx3-ubyte',labelfile='Dataset/train-labels.idx1-ubyte'\n",
    "             ,outputfile='Dataset/minist_train.csv',sample_size=60000)\n",
    "\n",
    "Read_Convert(imagefile='Dataset/t10k-images.idx3-ubyte' ,labelfile='Dataset/t10k-labels.idx1-ubyte' \n",
    "             ,outputfile='Dataset/minist_test.csv' ,sample_size=10000)\n",
    "\n",
    "print('Finish!')"
   ]
  },
  {
   "cell_type": "code",
   "execution_count": 6,
   "metadata": {},
   "outputs": [],
   "source": [
    "def Add_label(input_file, Output_file):\n",
    "    \n",
    "    col_names = ['label']\n",
    "    \n",
    "    # coln_names = ['label', '1', '2', ..., '783','784']\n",
    "    for i in range(1,785):\n",
    "        col_names.append(str(i))\n",
    "        \n",
    "    # read csv file to check and set the correct name for label column\n",
    "    df = pd.read_csv(input_file, header=None)\n",
    "    \n",
    "    df.columns = col_names\n",
    "    \n",
    "    # write new df to csv\n",
    "    df.to_csv(Output_file, index=False)"
   ]
  },
  {
   "cell_type": "code",
   "execution_count": 7,
   "metadata": {},
   "outputs": [],
   "source": [
    "# run add_label function for each .csv file\n",
    "\n",
    "Add_label(input_file='Dataset/minist_train.csv', Output_file='Dataset/minist_train_final.csv')\n",
    "Add_label(input_file='Dataset/minist_test.csv', Output_file='Dataset/minist_test_final.csv')"
   ]
  },
  {
   "cell_type": "code",
   "execution_count": 2,
   "metadata": {},
   "outputs": [],
   "source": [
    "# data visalization library\n",
    "import matplotlib.pyplot as plt\n",
    "from random import randint"
   ]
  },
  {
   "cell_type": "code",
   "execution_count": 9,
   "metadata": {},
   "outputs": [
    {
     "data": {
      "image/png": "[encoded data removed]",
      "text/plain": [
       "<Figure size 432x288 with 10 Axes>"
      ]
     },
     "metadata": {
      "needs_background": "light"
     },
     "output_type": "display_data"
    }
   ],
   "source": [
    "# read files\n",
    "df_train = pd.read_csv('Dataset/minist_train_final.csv')\n",
    "\n",
    "# extract labels \n",
    "labels_train = df_train['label'].values\n",
    "\n",
    "# extract digits\n",
    "df_digits = df_train.drop('label',axis=1)\n",
    "digits_data_train = df_digits.values\n",
    "\n",
    "# save figures \n",
    "fig, axs = plt.subplots(2, 5)\n",
    "\n",
    "for i in range(2):\n",
    "    for j in range(5):\n",
    "        index = randint(0,6000)\n",
    "        digit = digits_data_train[index]\n",
    "        # reshape as a 28*28 matrix\n",
    "        digit = digit.reshape(28,28)\n",
    "    \n",
    "        axs[i,j].imshow(digit,cmap='gray')\n",
    "        axs[i,j].set_title(str(labels_train[index]))\n",
    "        axs[i,j].axis('off')\n",
    "        \n",
    "plt.savefig('Fig2.jpg',dpi=300)"
   ]
  },
  {
   "cell_type": "markdown",
   "metadata": {},
   "source": [
    "# Dimension Reduction"
   ]
  },
  {
   "cell_type": "code",
   "execution_count": 3,
   "metadata": {},
   "outputs": [],
   "source": [
    "from sklearn import decomposition"
   ]
  },
  {
   "cell_type": "code",
   "execution_count": 11,
   "metadata": {},
   "outputs": [],
   "source": [
    "def reduce_dimension(data_in,data_out,num_of_features):\n",
    "    # read data\n",
    "    df = pd.read_csv(data_in)\n",
    "    \n",
    "    # extract labels \n",
    "    labels = df['label']\n",
    "    \n",
    "    # extract digits\n",
    "    df.drop('label',axis=1,inplace=True)\n",
    "    \n",
    "    # apply PCA\n",
    "    pca = decomposition.PCA()\n",
    "    pca.n_components = num_of_features\n",
    "    pca_data = pca.fit_transform(df)\n",
    "    pca_data = pd.DataFrame(pca_data)\n",
    "    \n",
    "    # add labels to reduced training dataset\n",
    "    out_df = pd.concat([labels,pca_data],axis=1)\n",
    "    \n",
    "    # write new dataset to file\n",
    "    out_df.to_csv(data_out,index=False)"
   ]
  },
  {
   "cell_type": "code",
   "execution_count": 13,
   "metadata": {},
   "outputs": [
    {
     "name": "stdout",
     "output_type": "stream",
     "text": [
      "start!\n",
      "Finish!\n"
     ]
    }
   ],
   "source": [
    "# run dimension reduction\n",
    "print('start!')\n",
    "reduce_dimension(data_in='Dataset/minist_test_final.csv',data_out='Dataset/minist_test_100.csv',num_of_features=100)\n",
    "\n",
    "reduce_dimension(data_in='Dataset/minist_train_final.csv',data_out='Dataset/minist_train_100.csv',num_of_features=100)\n",
    "\n",
    "reduce_dimension(data_in='Dataset/minist_train_final.csv',data_out='Dataset/minist_train_40.csv',num_of_features=40)\n",
    "\n",
    "reduce_dimension(data_in='Dataset/minist_test_final.csv',data_out='Dataset/minist_test_40.csv',num_of_features=40)\n",
    "print('Finish!')"
   ]
  },
  {
   "cell_type": "markdown",
   "metadata": {},
   "source": [
    "# Training SVM with linear kernel"
   ]
  },
  {
   "cell_type": "code",
   "execution_count": 23,
   "metadata": {},
   "outputs": [],
   "source": [
    "# using one vs all\n",
    "from sklearn.multiclass import OneVsRestClassifier\n",
    "# linear SVM\n",
    "from sklearn.svm import LinearSVC\n",
    "# save trained model to file\n",
    "import pickle\n",
    "# calculate the time of training process\n",
    "import timeit"
   ]
  },
  {
   "cell_type": "code",
   "execution_count": 16,
   "metadata": {},
   "outputs": [],
   "source": [
    "def Linear_SVM(data_in,data_out):\n",
    "    # start time\n",
    "    start = timeit.default_timer()\n",
    "    # read data\n",
    "    df_train = pd.read_csv(data_in)   \n",
    "    # shuffle the DataFrame rows\n",
    "    df_train = df_train.sample(frac = 1)    \n",
    "    # split label and data\n",
    "    df_label = df_train['label']\n",
    "    df_train.drop('label',axis=1,inplace=True)\n",
    "    \n",
    "    #create the SVM\n",
    "    svm = LinearSVC()\n",
    "    \n",
    "    # make it an OvR classifier\n",
    "    ovr_classifier = OneVsRestClassifier(svm)\n",
    "    \n",
    "    # fit the data\n",
    "    ovr_classifier = ovr_classifier.fit(df_train,df_label)\n",
    "    \n",
    "    # save trained model to file\n",
    "    pickle.dump(ovr_classifier, open(data_out, 'wb'))\n",
    "    \n",
    "    # stop time\n",
    "    stop = timeit.default_timer()\n",
    "    \n",
    "    print('Training Time: ', stop - start) "
   ]
  },
  {
   "cell_type": "code",
   "execution_count": 17,
   "metadata": {},
   "outputs": [
    {
     "name": "stderr",
     "output_type": "stream",
     "text": [
      "C:\\ProgramData\\Anaconda3\\lib\\site-packages\\sklearn\\svm\\_base.py:976: ConvergenceWarning: Liblinear failed to converge, increase the number of iterations.\n",
      "  warnings.warn(\"Liblinear failed to converge, increase \"\n",
      "C:\\ProgramData\\Anaconda3\\lib\\site-packages\\sklearn\\svm\\_base.py:976: ConvergenceWarning: Liblinear failed to converge, increase the number of iterations.\n",
      "  warnings.warn(\"Liblinear failed to converge, increase \"\n",
      "C:\\ProgramData\\Anaconda3\\lib\\site-packages\\sklearn\\svm\\_base.py:976: ConvergenceWarning: Liblinear failed to converge, increase the number of iterations.\n",
      "  warnings.warn(\"Liblinear failed to converge, increase \"\n",
      "C:\\ProgramData\\Anaconda3\\lib\\site-packages\\sklearn\\svm\\_base.py:976: ConvergenceWarning: Liblinear failed to converge, increase the number of iterations.\n",
      "  warnings.warn(\"Liblinear failed to converge, increase \"\n",
      "C:\\ProgramData\\Anaconda3\\lib\\site-packages\\sklearn\\svm\\_base.py:976: ConvergenceWarning: Liblinear failed to converge, increase the number of iterations.\n",
      "  warnings.warn(\"Liblinear failed to converge, increase \"\n",
      "C:\\ProgramData\\Anaconda3\\lib\\site-packages\\sklearn\\svm\\_base.py:976: ConvergenceWarning: Liblinear failed to converge, increase the number of iterations.\n",
      "  warnings.warn(\"Liblinear failed to converge, increase \"\n",
      "C:\\ProgramData\\Anaconda3\\lib\\site-packages\\sklearn\\svm\\_base.py:976: ConvergenceWarning: Liblinear failed to converge, increase the number of iterations.\n",
      "  warnings.warn(\"Liblinear failed to converge, increase \"\n",
      "C:\\ProgramData\\Anaconda3\\lib\\site-packages\\sklearn\\svm\\_base.py:976: ConvergenceWarning: Liblinear failed to converge, increase the number of iterations.\n",
      "  warnings.warn(\"Liblinear failed to converge, increase \"\n",
      "C:\\ProgramData\\Anaconda3\\lib\\site-packages\\sklearn\\svm\\_base.py:976: ConvergenceWarning: Liblinear failed to converge, increase the number of iterations.\n",
      "  warnings.warn(\"Liblinear failed to converge, increase \"\n",
      "C:\\ProgramData\\Anaconda3\\lib\\site-packages\\sklearn\\svm\\_base.py:976: ConvergenceWarning: Liblinear failed to converge, increase the number of iterations.\n",
      "  warnings.warn(\"Liblinear failed to converge, increase \"\n"
     ]
    },
    {
     "name": "stdout",
     "output_type": "stream",
     "text": [
      "Training Time:  143.572271125\n"
     ]
    },
    {
     "name": "stderr",
     "output_type": "stream",
     "text": [
      "C:\\ProgramData\\Anaconda3\\lib\\site-packages\\sklearn\\svm\\_base.py:976: ConvergenceWarning: Liblinear failed to converge, increase the number of iterations.\n",
      "  warnings.warn(\"Liblinear failed to converge, increase \"\n",
      "C:\\ProgramData\\Anaconda3\\lib\\site-packages\\sklearn\\svm\\_base.py:976: ConvergenceWarning: Liblinear failed to converge, increase the number of iterations.\n",
      "  warnings.warn(\"Liblinear failed to converge, increase \"\n",
      "C:\\ProgramData\\Anaconda3\\lib\\site-packages\\sklearn\\svm\\_base.py:976: ConvergenceWarning: Liblinear failed to converge, increase the number of iterations.\n",
      "  warnings.warn(\"Liblinear failed to converge, increase \"\n",
      "C:\\ProgramData\\Anaconda3\\lib\\site-packages\\sklearn\\svm\\_base.py:976: ConvergenceWarning: Liblinear failed to converge, increase the number of iterations.\n",
      "  warnings.warn(\"Liblinear failed to converge, increase \"\n",
      "C:\\ProgramData\\Anaconda3\\lib\\site-packages\\sklearn\\svm\\_base.py:976: ConvergenceWarning: Liblinear failed to converge, increase the number of iterations.\n",
      "  warnings.warn(\"Liblinear failed to converge, increase \"\n",
      "C:\\ProgramData\\Anaconda3\\lib\\site-packages\\sklearn\\svm\\_base.py:976: ConvergenceWarning: Liblinear failed to converge, increase the number of iterations.\n",
      "  warnings.warn(\"Liblinear failed to converge, increase \"\n",
      "C:\\ProgramData\\Anaconda3\\lib\\site-packages\\sklearn\\svm\\_base.py:976: ConvergenceWarning: Liblinear failed to converge, increase the number of iterations.\n",
      "  warnings.warn(\"Liblinear failed to converge, increase \"\n",
      "C:\\ProgramData\\Anaconda3\\lib\\site-packages\\sklearn\\svm\\_base.py:976: ConvergenceWarning: Liblinear failed to converge, increase the number of iterations.\n",
      "  warnings.warn(\"Liblinear failed to converge, increase \"\n",
      "C:\\ProgramData\\Anaconda3\\lib\\site-packages\\sklearn\\svm\\_base.py:976: ConvergenceWarning: Liblinear failed to converge, increase the number of iterations.\n",
      "  warnings.warn(\"Liblinear failed to converge, increase \"\n",
      "C:\\ProgramData\\Anaconda3\\lib\\site-packages\\sklearn\\svm\\_base.py:976: ConvergenceWarning: Liblinear failed to converge, increase the number of iterations.\n",
      "  warnings.warn(\"Liblinear failed to converge, increase \"\n"
     ]
    },
    {
     "name": "stdout",
     "output_type": "stream",
     "text": [
      "Training Time:  257.69158434\n"
     ]
    },
    {
     "name": "stderr",
     "output_type": "stream",
     "text": [
      "C:\\ProgramData\\Anaconda3\\lib\\site-packages\\sklearn\\svm\\_base.py:976: ConvergenceWarning: Liblinear failed to converge, increase the number of iterations.\n",
      "  warnings.warn(\"Liblinear failed to converge, increase \"\n",
      "C:\\ProgramData\\Anaconda3\\lib\\site-packages\\sklearn\\svm\\_base.py:976: ConvergenceWarning: Liblinear failed to converge, increase the number of iterations.\n",
      "  warnings.warn(\"Liblinear failed to converge, increase \"\n",
      "C:\\ProgramData\\Anaconda3\\lib\\site-packages\\sklearn\\svm\\_base.py:976: ConvergenceWarning: Liblinear failed to converge, increase the number of iterations.\n",
      "  warnings.warn(\"Liblinear failed to converge, increase \"\n",
      "C:\\ProgramData\\Anaconda3\\lib\\site-packages\\sklearn\\svm\\_base.py:976: ConvergenceWarning: Liblinear failed to converge, increase the number of iterations.\n",
      "  warnings.warn(\"Liblinear failed to converge, increase \"\n",
      "C:\\ProgramData\\Anaconda3\\lib\\site-packages\\sklearn\\svm\\_base.py:976: ConvergenceWarning: Liblinear failed to converge, increase the number of iterations.\n",
      "  warnings.warn(\"Liblinear failed to converge, increase \"\n",
      "C:\\ProgramData\\Anaconda3\\lib\\site-packages\\sklearn\\svm\\_base.py:976: ConvergenceWarning: Liblinear failed to converge, increase the number of iterations.\n",
      "  warnings.warn(\"Liblinear failed to converge, increase \"\n",
      "C:\\ProgramData\\Anaconda3\\lib\\site-packages\\sklearn\\svm\\_base.py:976: ConvergenceWarning: Liblinear failed to converge, increase the number of iterations.\n",
      "  warnings.warn(\"Liblinear failed to converge, increase \"\n",
      "C:\\ProgramData\\Anaconda3\\lib\\site-packages\\sklearn\\svm\\_base.py:976: ConvergenceWarning: Liblinear failed to converge, increase the number of iterations.\n",
      "  warnings.warn(\"Liblinear failed to converge, increase \"\n",
      "C:\\ProgramData\\Anaconda3\\lib\\site-packages\\sklearn\\svm\\_base.py:976: ConvergenceWarning: Liblinear failed to converge, increase the number of iterations.\n",
      "  warnings.warn(\"Liblinear failed to converge, increase \"\n"
     ]
    },
    {
     "name": "stdout",
     "output_type": "stream",
     "text": [
      "Training Time:  156.98780086600004\n"
     ]
    },
    {
     "name": "stderr",
     "output_type": "stream",
     "text": [
      "C:\\ProgramData\\Anaconda3\\lib\\site-packages\\sklearn\\svm\\_base.py:976: ConvergenceWarning: Liblinear failed to converge, increase the number of iterations.\n",
      "  warnings.warn(\"Liblinear failed to converge, increase \"\n"
     ]
    }
   ],
   "source": [
    "# train Linear SVM for all datasets\n",
    "Linear_SVM(data_in='Dataset/minist_train_final.csv',data_out='all_features_linear_svm.sav')\n",
    "Linear_SVM(data_in='Dataset/minist_train_100.csv',data_out='100_features_linear_svm.sav')\n",
    "Linear_SVM(data_in='Dataset/minist_train_40.csv',data_out='40_features_linear_svm.sav')"
   ]
  },
  {
   "cell_type": "markdown",
   "metadata": {},
   "source": [
    "# Training SVM with RBF kernel"
   ]
  },
  {
   "cell_type": "code",
   "execution_count": 22,
   "metadata": {},
   "outputs": [],
   "source": [
    "from sklearn.svm import SVC"
   ]
  },
  {
   "cell_type": "code",
   "execution_count": 25,
   "metadata": {},
   "outputs": [],
   "source": [
    "def RBF_SVM(data_in,data_out):\n",
    "    # start time\n",
    "    start = timeit.default_timer()\n",
    "    # read data\n",
    "    df_train = pd.read_csv(data_in)\n",
    "    # shuffle the DataFrame rows\n",
    "    df_train = df_train.sample(frac = 1)\n",
    "    # split label and data\n",
    "    df_label = df_train['label']\n",
    "    df_train.drop('label',axis=1,inplace=True)\n",
    "    \n",
    "    #create the SVM\n",
    "    svm = SVC(kernel='rbf')\n",
    "    \n",
    "    # make it an OvR classifier\n",
    "    ovr_classifier = OneVsRestClassifier(svm)\n",
    "    \n",
    "    # fit the data\n",
    "    ovr_classifier = ovr_classifier.fit(df_train,df_label)\n",
    "    \n",
    "    # save trained model to file\n",
    "    pickle.dump(ovr_classifier, open(data_out, 'wb'))\n",
    "    \n",
    "    # stop time\n",
    "    stop = timeit.default_timer()\n",
    "    \n",
    "    print('Training Time: ', stop - start)"
   ]
  },
  {
   "cell_type": "code",
   "execution_count": 24,
   "metadata": {},
   "outputs": [
    {
     "name": "stderr",
     "output_type": "stream",
     "text": [
      "C:\\ProgramData\\Anaconda3\\lib\\site-packages\\sklearn\\svm\\_base.py:246: ConvergenceWarning: Solver terminated early (max_iter=1000).  Consider pre-processing your data with StandardScaler or MinMaxScaler.\n",
      "  warnings.warn('Solver terminated early (max_iter=%i).'\n",
      "C:\\ProgramData\\Anaconda3\\lib\\site-packages\\sklearn\\svm\\_base.py:246: ConvergenceWarning: Solver terminated early (max_iter=1000).  Consider pre-processing your data with StandardScaler or MinMaxScaler.\n",
      "  warnings.warn('Solver terminated early (max_iter=%i).'\n",
      "C:\\ProgramData\\Anaconda3\\lib\\site-packages\\sklearn\\svm\\_base.py:246: ConvergenceWarning: Solver terminated early (max_iter=1000).  Consider pre-processing your data with StandardScaler or MinMaxScaler.\n",
      "  warnings.warn('Solver terminated early (max_iter=%i).'\n",
      "C:\\ProgramData\\Anaconda3\\lib\\site-packages\\sklearn\\svm\\_base.py:246: ConvergenceWarning: Solver terminated early (max_iter=1000).  Consider pre-processing your data with StandardScaler or MinMaxScaler.\n",
      "  warnings.warn('Solver terminated early (max_iter=%i).'\n",
      "C:\\ProgramData\\Anaconda3\\lib\\site-packages\\sklearn\\svm\\_base.py:246: ConvergenceWarning: Solver terminated early (max_iter=1000).  Consider pre-processing your data with StandardScaler or MinMaxScaler.\n",
      "  warnings.warn('Solver terminated early (max_iter=%i).'\n",
      "C:\\ProgramData\\Anaconda3\\lib\\site-packages\\sklearn\\svm\\_base.py:246: ConvergenceWarning: Solver terminated early (max_iter=1000).  Consider pre-processing your data with StandardScaler or MinMaxScaler.\n",
      "  warnings.warn('Solver terminated early (max_iter=%i).'\n",
      "C:\\ProgramData\\Anaconda3\\lib\\site-packages\\sklearn\\svm\\_base.py:246: ConvergenceWarning: Solver terminated early (max_iter=1000).  Consider pre-processing your data with StandardScaler or MinMaxScaler.\n",
      "  warnings.warn('Solver terminated early (max_iter=%i).'\n",
      "C:\\ProgramData\\Anaconda3\\lib\\site-packages\\sklearn\\svm\\_base.py:246: ConvergenceWarning: Solver terminated early (max_iter=1000).  Consider pre-processing your data with StandardScaler or MinMaxScaler.\n",
      "  warnings.warn('Solver terminated early (max_iter=%i).'\n",
      "C:\\ProgramData\\Anaconda3\\lib\\site-packages\\sklearn\\svm\\_base.py:246: ConvergenceWarning: Solver terminated early (max_iter=1000).  Consider pre-processing your data with StandardScaler or MinMaxScaler.\n",
      "  warnings.warn('Solver terminated early (max_iter=%i).'\n",
      "C:\\ProgramData\\Anaconda3\\lib\\site-packages\\sklearn\\svm\\_base.py:246: ConvergenceWarning: Solver terminated early (max_iter=1000).  Consider pre-processing your data with StandardScaler or MinMaxScaler.\n",
      "  warnings.warn('Solver terminated early (max_iter=%i).'\n"
     ]
    },
    {
     "name": "stdout",
     "output_type": "stream",
     "text": [
      "Training Time:  1099.445869252\n"
     ]
    }
   ],
   "source": [
    "# train RBF SVM for all datasets\n",
    "RBF_SVM(data_in='Dataset/minist_train_final.csv',data_out='all_features_rbf_svm.sav')\n",
    "RBF_SVM(data_in='Dataset/minist_train_100.csv',data_out='100_features_rbf_svm.sav')\n",
    "RBF_SVM(data_in='Dataset/minist_train_40.csv',data_out='40_features_rbf_svm.sav')"
   ]
  },
  {
   "cell_type": "markdown",
   "metadata": {},
   "source": [
    "# Training Decision Tree"
   ]
  },
  {
   "cell_type": "code",
   "execution_count": 21,
   "metadata": {},
   "outputs": [],
   "source": [
    "from sklearn.tree import DecisionTreeClassifier"
   ]
  },
  {
   "cell_type": "code",
   "execution_count": 19,
   "metadata": {},
   "outputs": [],
   "source": [
    "def Decision_Tree(data_in,data_out):\n",
    "    # start time\n",
    "    start = timeit.default_timer()\n",
    "    # read data\n",
    "    df_train = pd.read_csv(data_in)\n",
    "    # shuffle the DataFrame rows\n",
    "    df_train = df_train.sample(frac = 1)\n",
    "    # split label and data\n",
    "    df_label = df_train['label']\n",
    "    df_train.drop('label',axis=1,inplace=True)\n",
    "    \n",
    "    #create the DTree\n",
    "    DTree = DecisionTreeClassifier()\n",
    "    \n",
    "    # make it an OvR classifier\n",
    "    ovr_classifier = OneVsRestClassifier(DTree)\n",
    "    \n",
    "    # fit the data\n",
    "    ovr_classifier = ovr_classifier.fit(df_train,df_label)\n",
    "    \n",
    "    # save trained model to file\n",
    "    pickle.dump(ovr_classifier, open(data_out, 'wb'))\n",
    "    \n",
    "    # stop time\n",
    "    stop = timeit.default_timer()\n",
    "    \n",
    "    print('Training Time: ', stop - start)"
   ]
  },
  {
   "cell_type": "code",
   "execution_count": 22,
   "metadata": {},
   "outputs": [
    {
     "name": "stdout",
     "output_type": "stream",
     "text": [
      "Training Time:  149.29010602799997\n",
      "Training Time:  163.463708494\n",
      "Training Time:  51.20487253099998\n"
     ]
    }
   ],
   "source": [
    "# train Decision Tree for all datasets\n",
    "Decision_Tree(data_in='Dataset/minist_train_final.csv',data_out='all_features_DTree.sav')\n",
    "Decision_Tree(data_in='Dataset/minist_train_100.csv'  ,data_out='100_features_DTree.sav')\n",
    "Decision_Tree(data_in='Dataset/minist_train_40.csv'   ,data_out='40_features_DTree.sav')"
   ]
  },
  {
   "cell_type": "markdown",
   "metadata": {},
   "source": [
    "# Evaluating Trained Models"
   ]
  },
  {
   "cell_type": "code",
   "execution_count": 20,
   "metadata": {},
   "outputs": [],
   "source": [
    "from sklearn.metrics import confusion_matrix,precision_score,recall_score\n",
    "from sklearn.metrics import f1_score,roc_curve,auc,roc_auc_score\n",
    "import seaborn as sns"
   ]
  },
  {
   "cell_type": "code",
   "execution_count": 12,
   "metadata": {},
   "outputs": [],
   "source": [
    "def evaluate(model_name,test_file,output_name):\n",
    "    \n",
    "    # open trained model file\n",
    "    trained_file = open(model_name,'rb')\n",
    "    # Load trained file\n",
    "    trained_model = pickle.load(trained_file)\n",
    "    \n",
    "    #Load test dataset\n",
    "    Test = pd.read_csv(test_file)\n",
    "    # split X and Y\n",
    "    Y_test = Test['label']\n",
    "    X_test = Test.drop('label',axis=1)\n",
    "    \n",
    "    # Confusion Matrix\n",
    "    predicted = trained_model.predict(X_test)\n",
    "    ConfMatrix = confusion_matrix(Y_test,predicted)\n",
    "    # save matrix to file\n",
    "    Tmp_name = output_name + '_confusion_matrix.csv'\n",
    "    pd.DataFrame(ConfMatrix).to_csv(Tmp_name)\n",
    "    # plot data\n",
    "    plt.figure(figsize = (10,7))  \n",
    "    Tmp_name = output_name + '_confusion.jpg'\n",
    "    sns.heatmap(ConfMatrix,annot=True,cbar=False,fmt='g',linewidths=0.5,cmap='PuBu').figure.savefig(Tmp_name,dpi=400)\n",
    "    \n",
    "    # Precision\n",
    "    Precision = precision_score(Y_test,predicted,average=\"macro\")\n",
    "    print('Precision: ',Precision)\n",
    "    # Recall\n",
    "    Recall = recall_score(Y_test,predicted,average=\"macro\")\n",
    "    print('Recall: ',Recall) \n",
    "    # f1 \n",
    "    F1 = f1_score(Y_test,predicted,average=\"macro\")\n",
    "    print('F1: ',F1) \n",
    "    # write measures in a text file\n",
    "    Tmp_name = output_name + '_measure.txt'\n",
    "    outfile = open(Tmp_name,'w')\n",
    "    outfile.write('Precision: ')\n",
    "    outfile.write(str(Precision))\n",
    "    outfile.write('\\n')\n",
    "    outfile.write('Recall: ')\n",
    "    outfile.write(str(Recall))\n",
    "    outfile.write('\\n')\n",
    "    outfile.write('F1: ')\n",
    "    outfile.write(str(F1))\n",
    "    outfile.close()\n",
    "    \n",
    "    #Compute ROC curve and ROC area for each class\n",
    "    fpr = dict()\n",
    "    tpr = dict()\n",
    "    roc_auc_s = dict()\n",
    "    n_classes = 10\n",
    "    \n",
    "    for i in range(n_classes):\n",
    "        fpr[i], tpr[i], _ = roc_curve(Y_test, predicted,i)\n",
    "        roc_auc_s[i] = auc(fpr[i], tpr[i])\n",
    "        \n",
    "    # plot ROC and AUC\n",
    "    fig, axs = plt.subplots(2, 5)\n",
    "    fig.set_figheight(9)\n",
    "    fig.set_figwidth(16)\n",
    "    \n",
    "    for i in range(2):\n",
    "        for j in range(5):\n",
    "            axs[i,j].plot(fpr[i*5+j],tpr[i*5+j],label='C {0} (area = %0.2f)'.format(i*5+j) %roc_auc_s[i*5+j])\n",
    "            axs[i,j].set_title(str('C{0} (area = %0.2f)'.format(i*5+j) %roc_auc_s[i*5+j]))\n",
    "            axs[i,j].plot([0, 1], [0, 1], 'k--')\n",
    "            \n",
    "            if(i != 1):\n",
    "                axs[i,j].get_xaxis().set_ticks([])\n",
    "            if(j != 0):\n",
    "                axs[i,j].get_yaxis().set_ticks([])\n",
    "                \n",
    "    Tmp_name = output_name + '_ROC.jpg'\n",
    "    fig.savefig(Tmp_name,dpi=450)"
   ]
  },
  {
   "cell_type": "code",
   "execution_count": 13,
   "metadata": {},
   "outputs": [],
   "source": [
    "# run evaluation for all 9 model\n",
    "\n",
    "# linear SVM\n",
    "evaluate('Models/all_features_linear_svm.sav','Dataset/minist_test_final.csv','data/minist_linear_svm_all')\n",
    "evaluate('Models/100_features_linear_svm.sav','Dataset/minist_test_100.csv','data/minist_linear_svm_100')\n",
    "evaluate('Models/40_features_linear_svm.sav','Dataset/minist_test_40.csv','data/minist_linear_svm_40')\n",
    "\n",
    "# RBF SVM\n",
    "evaluate('Models/all_features_rbf_svm.sav','Dataset/minist_test_final.csv','data/minist_rbf_svm_all')\n",
    "evaluate('Models/100_features_rbf_svm.sav','Dataset/minist_test_100.csv','data/minist_rbf_svm_100')\n",
    "evaluate('Models/40_features_rbf_svm.sav','Dataset/minist_test_40.csv','data/minist_rbf_svm_40')\n",
    "\n",
    "# Decision Tree\n",
    "evaluate('Models/all_features_DTree.sav','Dataset/minist_test_final.csv','data/minist_Dtree_all')\n",
    "evaluate('Models/100_features_DTree.sav','Dataset/minist_test_100.csv','data/minist_Dtree_100')\n",
    "evaluate('Models/40_features_DTree.sav','Dataset/minist_test_40.csv','data/minist_Dtree_40')"
   ]
  },
  {
   "cell_type": "markdown",
   "metadata": {},
   "source": [
    "# Bouns Section: Cross Validation"
   ]
  },
  {
   "cell_type": "code",
   "execution_count": 16,
   "metadata": {},
   "outputs": [],
   "source": [
    "from sklearn.model_selection import cross_val_score\n",
    "from sklearn.model_selection import ShuffleSplit"
   ]
  },
  {
   "cell_type": "code",
   "execution_count": 26,
   "metadata": {},
   "outputs": [],
   "source": [
    "def CV(model_name,Training_file, Test_file,K):\n",
    "    # read train and test data\n",
    "    Train_df = pd.read_csv(Training_file)\n",
    "    Test_df  = pd.read_csv(Test_file)\n",
    "    # concate 2 dataframe\n",
    "    DF = pd.concat([Train_df,Test_df])\n",
    "    # split X and Y\n",
    "    Y = DF['label']\n",
    "    X = DF.drop('label',axis=1)\n",
    "    \n",
    "    # open trained model file\n",
    "    trained_file = open(model_name,'rb')\n",
    "    # Load trained file\n",
    "    trained_model = pickle.load(trained_file)\n",
    "    \n",
    "    cross_val = ShuffleSplit(n_splits=K, test_size=0.15, random_state=0)\n",
    "    scores = cross_val_score(trained_model, X, Y, cv=cross_val)\n",
    "    print(scores)\n",
    "    fi = open('test.txt','w')\n",
    "    fi.write(str(scores))\n",
    "    fi.close()"
   ]
  },
  {
   "cell_type": "code",
   "execution_count": 27,
   "metadata": {},
   "outputs": [
    {
     "name": "stderr",
     "output_type": "stream",
     "text": [
      "C:\\ProgramData\\Anaconda3\\lib\\site-packages\\sklearn\\svm\\_base.py:976: ConvergenceWarning: Liblinear failed to converge, increase the number of iterations.\n",
      "  warnings.warn(\"Liblinear failed to converge, increase \"\n",
      "C:\\ProgramData\\Anaconda3\\lib\\site-packages\\sklearn\\svm\\_base.py:976: ConvergenceWarning: Liblinear failed to converge, increase the number of iterations.\n",
      "  warnings.warn(\"Liblinear failed to converge, increase \"\n",
      "C:\\ProgramData\\Anaconda3\\lib\\site-packages\\sklearn\\svm\\_base.py:976: ConvergenceWarning: Liblinear failed to converge, increase the number of iterations.\n",
      "  warnings.warn(\"Liblinear failed to converge, increase \"\n",
      "C:\\ProgramData\\Anaconda3\\lib\\site-packages\\sklearn\\svm\\_base.py:976: ConvergenceWarning: Liblinear failed to converge, increase the number of iterations.\n",
      "  warnings.warn(\"Liblinear failed to converge, increase \"\n",
      "C:\\ProgramData\\Anaconda3\\lib\\site-packages\\sklearn\\svm\\_base.py:976: ConvergenceWarning: Liblinear failed to converge, increase the number of iterations.\n",
      "  warnings.warn(\"Liblinear failed to converge, increase \"\n",
      "C:\\ProgramData\\Anaconda3\\lib\\site-packages\\sklearn\\svm\\_base.py:976: ConvergenceWarning: Liblinear failed to converge, increase the number of iterations.\n",
      "  warnings.warn(\"Liblinear failed to converge, increase \"\n",
      "C:\\ProgramData\\Anaconda3\\lib\\site-packages\\sklearn\\svm\\_base.py:976: ConvergenceWarning: Liblinear failed to converge, increase the number of iterations.\n",
      "  warnings.warn(\"Liblinear failed to converge, increase \"\n",
      "C:\\ProgramData\\Anaconda3\\lib\\site-packages\\sklearn\\svm\\_base.py:976: ConvergenceWarning: Liblinear failed to converge, increase the number of iterations.\n",
      "  warnings.warn(\"Liblinear failed to converge, increase \"\n",
      "C:\\ProgramData\\Anaconda3\\lib\\site-packages\\sklearn\\svm\\_base.py:976: ConvergenceWarning: Liblinear failed to converge, increase the number of iterations.\n",
      "  warnings.warn(\"Liblinear failed to converge, increase \"\n",
      "C:\\ProgramData\\Anaconda3\\lib\\site-packages\\sklearn\\svm\\_base.py:976: ConvergenceWarning: Liblinear failed to converge, increase the number of iterations.\n",
      "  warnings.warn(\"Liblinear failed to converge, increase \"\n",
      "C:\\ProgramData\\Anaconda3\\lib\\site-packages\\sklearn\\svm\\_base.py:976: ConvergenceWarning: Liblinear failed to converge, increase the number of iterations.\n",
      "  warnings.warn(\"Liblinear failed to converge, increase \"\n",
      "C:\\ProgramData\\Anaconda3\\lib\\site-packages\\sklearn\\svm\\_base.py:976: ConvergenceWarning: Liblinear failed to converge, increase the number of iterations.\n",
      "  warnings.warn(\"Liblinear failed to converge, increase \"\n",
      "C:\\ProgramData\\Anaconda3\\lib\\site-packages\\sklearn\\svm\\_base.py:976: ConvergenceWarning: Liblinear failed to converge, increase the number of iterations.\n",
      "  warnings.warn(\"Liblinear failed to converge, increase \"\n",
      "C:\\ProgramData\\Anaconda3\\lib\\site-packages\\sklearn\\svm\\_base.py:976: ConvergenceWarning: Liblinear failed to converge, increase the number of iterations.\n",
      "  warnings.warn(\"Liblinear failed to converge, increase \"\n",
      "C:\\ProgramData\\Anaconda3\\lib\\site-packages\\sklearn\\svm\\_base.py:976: ConvergenceWarning: Liblinear failed to converge, increase the number of iterations.\n",
      "  warnings.warn(\"Liblinear failed to converge, increase \"\n",
      "C:\\ProgramData\\Anaconda3\\lib\\site-packages\\sklearn\\svm\\_base.py:976: ConvergenceWarning: Liblinear failed to converge, increase the number of iterations.\n",
      "  warnings.warn(\"Liblinear failed to converge, increase \"\n",
      "C:\\ProgramData\\Anaconda3\\lib\\site-packages\\sklearn\\svm\\_base.py:976: ConvergenceWarning: Liblinear failed to converge, increase the number of iterations.\n",
      "  warnings.warn(\"Liblinear failed to converge, increase \"\n",
      "C:\\ProgramData\\Anaconda3\\lib\\site-packages\\sklearn\\svm\\_base.py:976: ConvergenceWarning: Liblinear failed to converge, increase the number of iterations.\n",
      "  warnings.warn(\"Liblinear failed to converge, increase \"\n",
      "C:\\ProgramData\\Anaconda3\\lib\\site-packages\\sklearn\\svm\\_base.py:976: ConvergenceWarning: Liblinear failed to converge, increase the number of iterations.\n",
      "  warnings.warn(\"Liblinear failed to converge, increase \"\n",
      "C:\\ProgramData\\Anaconda3\\lib\\site-packages\\sklearn\\svm\\_base.py:976: ConvergenceWarning: Liblinear failed to converge, increase the number of iterations.\n",
      "  warnings.warn(\"Liblinear failed to converge, increase \"\n",
      "C:\\ProgramData\\Anaconda3\\lib\\site-packages\\sklearn\\svm\\_base.py:976: ConvergenceWarning: Liblinear failed to converge, increase the number of iterations.\n",
      "  warnings.warn(\"Liblinear failed to converge, increase \"\n",
      "C:\\ProgramData\\Anaconda3\\lib\\site-packages\\sklearn\\svm\\_base.py:976: ConvergenceWarning: Liblinear failed to converge, increase the number of iterations.\n",
      "  warnings.warn(\"Liblinear failed to converge, increase \"\n",
      "C:\\ProgramData\\Anaconda3\\lib\\site-packages\\sklearn\\svm\\_base.py:976: ConvergenceWarning: Liblinear failed to converge, increase the number of iterations.\n",
      "  warnings.warn(\"Liblinear failed to converge, increase \"\n",
      "C:\\ProgramData\\Anaconda3\\lib\\site-packages\\sklearn\\svm\\_base.py:976: ConvergenceWarning: Liblinear failed to converge, increase the number of iterations.\n",
      "  warnings.warn(\"Liblinear failed to converge, increase \"\n",
      "C:\\ProgramData\\Anaconda3\\lib\\site-packages\\sklearn\\svm\\_base.py:976: ConvergenceWarning: Liblinear failed to converge, increase the number of iterations.\n",
      "  warnings.warn(\"Liblinear failed to converge, increase \"\n",
      "C:\\ProgramData\\Anaconda3\\lib\\site-packages\\sklearn\\svm\\_base.py:976: ConvergenceWarning: Liblinear failed to converge, increase the number of iterations.\n",
      "  warnings.warn(\"Liblinear failed to converge, increase \"\n",
      "C:\\ProgramData\\Anaconda3\\lib\\site-packages\\sklearn\\svm\\_base.py:976: ConvergenceWarning: Liblinear failed to converge, increase the number of iterations.\n",
      "  warnings.warn(\"Liblinear failed to converge, increase \"\n",
      "C:\\ProgramData\\Anaconda3\\lib\\site-packages\\sklearn\\svm\\_base.py:976: ConvergenceWarning: Liblinear failed to converge, increase the number of iterations.\n",
      "  warnings.warn(\"Liblinear failed to converge, increase \"\n",
      "C:\\ProgramData\\Anaconda3\\lib\\site-packages\\sklearn\\svm\\_base.py:976: ConvergenceWarning: Liblinear failed to converge, increase the number of iterations.\n",
      "  warnings.warn(\"Liblinear failed to converge, increase \"\n",
      "C:\\ProgramData\\Anaconda3\\lib\\site-packages\\sklearn\\svm\\_base.py:976: ConvergenceWarning: Liblinear failed to converge, increase the number of iterations.\n",
      "  warnings.warn(\"Liblinear failed to converge, increase \"\n",
      "C:\\ProgramData\\Anaconda3\\lib\\site-packages\\sklearn\\svm\\_base.py:976: ConvergenceWarning: Liblinear failed to converge, increase the number of iterations.\n",
      "  warnings.warn(\"Liblinear failed to converge, increase \"\n",
      "C:\\ProgramData\\Anaconda3\\lib\\site-packages\\sklearn\\svm\\_base.py:976: ConvergenceWarning: Liblinear failed to converge, increase the number of iterations.\n",
      "  warnings.warn(\"Liblinear failed to converge, increase \"\n",
      "C:\\ProgramData\\Anaconda3\\lib\\site-packages\\sklearn\\svm\\_base.py:976: ConvergenceWarning: Liblinear failed to converge, increase the number of iterations.\n",
      "  warnings.warn(\"Liblinear failed to converge, increase \"\n",
      "C:\\ProgramData\\Anaconda3\\lib\\site-packages\\sklearn\\svm\\_base.py:976: ConvergenceWarning: Liblinear failed to converge, increase the number of iterations.\n",
      "  warnings.warn(\"Liblinear failed to converge, increase \"\n",
      "C:\\ProgramData\\Anaconda3\\lib\\site-packages\\sklearn\\svm\\_base.py:976: ConvergenceWarning: Liblinear failed to converge, increase the number of iterations.\n",
      "  warnings.warn(\"Liblinear failed to converge, increase \"\n",
      "C:\\ProgramData\\Anaconda3\\lib\\site-packages\\sklearn\\svm\\_base.py:976: ConvergenceWarning: Liblinear failed to converge, increase the number of iterations.\n",
      "  warnings.warn(\"Liblinear failed to converge, increase \"\n",
      "C:\\ProgramData\\Anaconda3\\lib\\site-packages\\sklearn\\svm\\_base.py:976: ConvergenceWarning: Liblinear failed to converge, increase the number of iterations.\n",
      "  warnings.warn(\"Liblinear failed to converge, increase \"\n",
      "C:\\ProgramData\\Anaconda3\\lib\\site-packages\\sklearn\\svm\\_base.py:976: ConvergenceWarning: Liblinear failed to converge, increase the number of iterations.\n",
      "  warnings.warn(\"Liblinear failed to converge, increase \"\n",
      "C:\\ProgramData\\Anaconda3\\lib\\site-packages\\sklearn\\svm\\_base.py:976: ConvergenceWarning: Liblinear failed to converge, increase the number of iterations.\n",
      "  warnings.warn(\"Liblinear failed to converge, increase \"\n",
      "C:\\ProgramData\\Anaconda3\\lib\\site-packages\\sklearn\\svm\\_base.py:976: ConvergenceWarning: Liblinear failed to converge, increase the number of iterations.\n",
      "  warnings.warn(\"Liblinear failed to converge, increase \"\n",
      "C:\\ProgramData\\Anaconda3\\lib\\site-packages\\sklearn\\svm\\_base.py:976: ConvergenceWarning: Liblinear failed to converge, increase the number of iterations.\n",
      "  warnings.warn(\"Liblinear failed to converge, increase \"\n",
      "C:\\ProgramData\\Anaconda3\\lib\\site-packages\\sklearn\\svm\\_base.py:976: ConvergenceWarning: Liblinear failed to converge, increase the number of iterations.\n",
      "  warnings.warn(\"Liblinear failed to converge, increase \"\n",
      "C:\\ProgramData\\Anaconda3\\lib\\site-packages\\sklearn\\svm\\_base.py:976: ConvergenceWarning: Liblinear failed to converge, increase the number of iterations.\n",
      "  warnings.warn(\"Liblinear failed to converge, increase \"\n",
      "C:\\ProgramData\\Anaconda3\\lib\\site-packages\\sklearn\\svm\\_base.py:976: ConvergenceWarning: Liblinear failed to converge, increase the number of iterations.\n",
      "  warnings.warn(\"Liblinear failed to converge, increase \"\n",
      "C:\\ProgramData\\Anaconda3\\lib\\site-packages\\sklearn\\svm\\_base.py:976: ConvergenceWarning: Liblinear failed to converge, increase the number of iterations.\n",
      "  warnings.warn(\"Liblinear failed to converge, increase \"\n",
      "C:\\ProgramData\\Anaconda3\\lib\\site-packages\\sklearn\\svm\\_base.py:976: ConvergenceWarning: Liblinear failed to converge, increase the number of iterations.\n",
      "  warnings.warn(\"Liblinear failed to converge, increase \"\n",
      "C:\\ProgramData\\Anaconda3\\lib\\site-packages\\sklearn\\svm\\_base.py:976: ConvergenceWarning: Liblinear failed to converge, increase the number of iterations.\n",
      "  warnings.warn(\"Liblinear failed to converge, increase \"\n",
      "C:\\ProgramData\\Anaconda3\\lib\\site-packages\\sklearn\\svm\\_base.py:976: ConvergenceWarning: Liblinear failed to converge, increase the number of iterations.\n",
      "  warnings.warn(\"Liblinear failed to converge, increase \"\n",
      "C:\\ProgramData\\Anaconda3\\lib\\site-packages\\sklearn\\svm\\_base.py:976: ConvergenceWarning: Liblinear failed to converge, increase the number of iterations.\n",
      "  warnings.warn(\"Liblinear failed to converge, increase \"\n",
      "C:\\ProgramData\\Anaconda3\\lib\\site-packages\\sklearn\\svm\\_base.py:976: ConvergenceWarning: Liblinear failed to converge, increase the number of iterations.\n",
      "  warnings.warn(\"Liblinear failed to converge, increase \"\n"
     ]
    },
    {
     "name": "stdout",
     "output_type": "stream",
     "text": [
      "[0.86361905 0.85752381 0.85933333 0.8552381  0.86114286]\n"
     ]
    }
   ],
   "source": [
    "CV('Models/all_features_linear_svm.sav','Dataset/minist_train_final.csv','Dataset/minist_test_final.csv',5)\n",
    "CV('Models/all_features_linear_svm.sav','Dataset/minist_train_final.csv','Dataset/minist_test_final.csv',7)\n",
    "CV('Models/all_features_linear_svm.sav','Dataset/minist_train_final.csv','Dataset/minist_test_final.csv',10)\n",
    "\n",
    "CV('Models/all_features_rbf_svm.sav','Dataset/minist_train_final.csv','Dataset/minist_test_final.csv',5)\n",
    "CV('Models/all_features_rbf_svm.sav','Dataset/minist_train_final.csv','Dataset/minist_test_final.csv',7)\n",
    "CV('Models/all_features_rbf_svm.sav','Dataset/minist_train_final.csv','Dataset/minist_test_final.csv',10)\n",
    "\n",
    "CV('Models/all_features_DTree.sav','Dataset/minist_train_final.csv','Dataset/minist_test_final.csv',5)\n",
    "CV('Models/all_features_DTree.sav','Dataset/minist_train_final.csv','Dataset/minist_test_final.csv',7)\n",
    "CV('Models/all_features_DTree.sav','Dataset/minist_train_final.csv','Dataset/minist_test_final.csv',10)"
   ]
  }
 ],
 "metadata": {
  "kernelspec": {
   "display_name": "Python 3",
   "language": "python",
   "name": "python3"
  },
  "language_info": {
   "codemirror_mode": {
    "name": "ipython",
    "version": 3
   },
   "file_extension": ".py",
   "mimetype": "text/x-python",
   "name": "python",
   "nbconvert_exporter": "python",
   "pygments_lexer": "ipython3",
   "version": "3.8.5"
  }
 },
 "nbformat": 4,
 "nbformat_minor": 4
}
